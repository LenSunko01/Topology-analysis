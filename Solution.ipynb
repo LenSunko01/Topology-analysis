{
 "cells": [
  {
   "cell_type": "code",
   "execution_count": 4,
   "id": "e11febf2",
   "metadata": {},
   "outputs": [],
   "source": [
    "import os\n",
    "\n",
    "from python_graphs import control_flow\n",
    "from python_graphs import control_flow_graphviz\n",
    "\n",
    "\n",
    "def plot_control_flow_graph(fn, path):\n",
    "    graph = control_flow.get_control_flow_graph(fn)\n",
    "    control_flow_graphviz.render(graph, path=path)\n",
    "\n",
    "\n",
    "def create_graph(argv) -> None:\n",
    "    f = open(argv, \"r\")\n",
    "    program = f.read()\n",
    "\n",
    "    os.makedirs('result', exist_ok=True)\n",
    "    path = f'result/result_cfg.png'\n",
    "    plot_control_flow_graph(program, path)"
   ]
  },
  {
   "cell_type": "code",
   "execution_count": 6,
   "id": "1fcb8541",
   "metadata": {
    "scrolled": true
   },
   "outputs": [],
   "source": [
    "# Provide path to the file with code\n",
    "create_graph(\"example.py\")"
   ]
  },
  {
   "cell_type": "code",
   "execution_count": null,
   "id": "ec64838a",
   "metadata": {},
   "outputs": [],
   "source": []
  }
 ],
 "metadata": {
  "kernelspec": {
   "display_name": "Python 3 (ipykernel)",
   "language": "python",
   "name": "python3"
  },
  "language_info": {
   "codemirror_mode": {
    "name": "ipython",
    "version": 3
   },
   "file_extension": ".py",
   "mimetype": "text/x-python",
   "name": "python",
   "nbconvert_exporter": "python",
   "pygments_lexer": "ipython3",
   "version": "3.8.10"
  }
 },
 "nbformat": 4,
 "nbformat_minor": 5
}
